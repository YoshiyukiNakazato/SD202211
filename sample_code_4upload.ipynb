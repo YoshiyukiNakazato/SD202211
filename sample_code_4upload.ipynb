{
 "cells": [
  {
   "cell_type": "code",
   "execution_count": null,
   "id": "84b78097",
   "metadata": {},
   "outputs": [],
   "source": [
    "from flightradar24.api \\\n",
    "import FlightRadar24API\n",
    "import folium\n",
    "\n",
    "# 航空機情報を取得するエリア\n",
    "bounds=\"60,22,113,176\" \n",
    "fr_api=FlightRadar24API()\n",
    "flights=fr_api.get_flights(\n",
    "             bounds=bounds)\n",
    "fmap = folium.Map(\n",
    "  location=[35,135],zoom_start=3)\n",
    "for f in flights:\n",
    "    folium.Marker(# マーカープロット\n",
    " location=[f.latitude,f.longitude],\n",
    " icon=folium.Icon(icon=\"plane\") \n",
    "    ).add_to(fmap)\n",
    "fmap            # 地図表示"
   ]
  },
  {
   "cell_type": "code",
   "execution_count": null,
   "id": "6d6e5267",
   "metadata": {},
   "outputs": [],
   "source": [
    "import time\n",
    "from datetime import datetime\n",
    "\n",
    "flights = []; timeStamps=[]\n",
    "for i in range(60*6*4): # 10秒に１回、６０分の取得を続ける\n",
    "    flights.append(fr_api.get_flights(bounds=bounds))\n",
    "    timeStamps.append(datetime.now())\n",
    "    time.sleep(10)"
   ]
  },
  {
   "cell_type": "code",
   "execution_count": null,
   "id": "85e92d2f",
   "metadata": {},
   "outputs": [],
   "source": [
    "import numpy as np\n",
    "# (lat,lon,heading,l)の単位は(deg,deg,deg,m)\n",
    "def dstLatLon(lat, lon, heading, l): \n",
    "    lat0=l/(40000*1000)*360 # 地球１周(m)/360°\n",
    "    lon0=l/(40000*1000)*360/np.cos(np.deg2rad(lat))\n",
    "    lat0=lat0*np.cos(np.deg2rad(heading))\n",
    "    lon0=lon0*np.sin(np.deg2rad(heading))\n",
    "    return lat+lat0, lon+lon0"
   ]
  },
  {
   "cell_type": "code",
   "execution_count": null,
   "id": "5729e8fd",
   "metadata": {},
   "outputs": [],
   "source": [
    "f = open('flightsHaneda2.kml', 'w')\n",
    "f.write(\"<?xml version='1.0' encoding='UTF-8'?>\\n\")\n",
    "f.write(\"<kml xmlns='http://earth.google.com/kml/2.2'>\\n\")\n",
    "f.write(\"<Document>\\n   <name>flight</name>\\n\")\n",
    "for i, t in enumerate(timeStamps):\n",
    "    fs = flights[i]\n",
    "    for fl in fs:\n",
    "        lat_d, lon_d = dstLatLon(fl.latitude, fl.longitude,\n",
    "                                 fl.heading, fl.ground_speed*5)\n",
    "        alt = fl.altitude*0.3048 # 飛行高度（フィート）をメートルに\n",
    "        f.write(\"<Placemark>\\n        <TimeSpan>\\n          <begin>\") \n",
    "        +'%04i-%02i-%02iT%02i:%02i:%02iZ'%(\n",
    "            t.year, t.month, t.day, t.hour, t.minute, t.second)\n",
    "        +\"</begin>\\n        </TimeSpan>\\n\")        \n",
    "        f.write(\"   <Style>\\n   <LineStyle>\\n\")\n",
    "        f.write(\"   <color>80ffff00</color>\\n\") # 色順はABGR\n",
    "        f.write(\"   <width>5</width>\\n   </LineStyle>\\n\")\n",
    "        f.write(\"   </Style>\\n   <LineString>\\n\")\n",
    "        f.write(\"       <extrude>0</extrude>\\n\")\n",
    "        f.write(\"       <altitudeMode>absolute</altitudeMode>\\n\")\n",
    "        f.write(\"        <coordinates>\" \n",
    "        +str(fl.longitude)+\",\"+str(fl.latitude)+\",\"+str(alt)\n",
    "        +\" \"+str(lon_d)+\",\"+str(lat_d)+\",\"+str(alt)+\"</coordinates>\\n\")    \n",
    "        f.write(\"   </LineString>\\n</Placemark>\\n\")    \n",
    "f.write(\"</Document></kml>\\n\"); f.close()"
   ]
  },
  {
   "cell_type": "code",
   "execution_count": null,
   "id": "b90f95df",
   "metadata": {},
   "outputs": [],
   "source": []
  },
  {
   "cell_type": "code",
   "execution_count": null,
   "id": "1e7e4c4b",
   "metadata": {},
   "outputs": [],
   "source": []
  },
  {
   "cell_type": "code",
   "execution_count": null,
   "id": "3bfd3523",
   "metadata": {},
   "outputs": [],
   "source": []
  }
 ],
 "metadata": {
  "kernelspec": {
   "display_name": "Python 3 (ipykernel)",
   "language": "python",
   "name": "python3"
  },
  "language_info": {
   "codemirror_mode": {
    "name": "ipython",
    "version": 3
   },
   "file_extension": ".py",
   "mimetype": "text/x-python",
   "name": "python",
   "nbconvert_exporter": "python",
   "pygments_lexer": "ipython3",
   "version": "3.7.4"
  }
 },
 "nbformat": 4,
 "nbformat_minor": 5
}
